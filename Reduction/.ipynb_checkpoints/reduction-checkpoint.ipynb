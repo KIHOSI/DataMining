{
 "cells": [
  {
   "cell_type": "code",
   "execution_count": 61,
   "metadata": {},
   "outputs": [],
   "source": [
    "#PCA\n",
    "def pca():\n",
    "    print(x_train.shape)\n",
    "    estimator = PCA(n_components=43)\n",
    "    pca_x_train = estimator.fit_transform(x_train)\n",
    "    plt.plot(estimator.explained_variance_ratio_.cumsum(), '--o')\n",
    "    plt.show()\n",
    "    \n",
    "    estimator = PCA(n_components=4)\n",
    "    pca_x_train = estimator.fit_transform(x_train)\n",
    "    print(pd.DataFrame(estimator.explained_variance_ratio_))\n",
    "    plt.plot(estimator.explained_variance_ratio_.cumsum(), '--o')\n",
    "    plt.show()\n",
    "    data_scaled = pd.DataFrame(preprocessing.scale(x_train),columns = x_train.columns) \n",
    "    print(pd.DataFrame(estimator.components_,columns=data_scaled.columns,index = ['feature-1','feature-2','feature-3','feature-4']))\n",
    "    pca_x_test = estimator.transform(x_test)\n",
    "    \n",
    "    return pca_x_train,pca_x_test"
   ]
  },
  {
   "cell_type": "code",
   "execution_count": 62,
   "metadata": {},
   "outputs": [],
   "source": [
    "#Random Forest\n",
    "def randomForest():\n",
    "    #以training data選擇降維維度\n",
    "    from sklearn.ensemble import RandomForestRegressor\n",
    "    #Random Forest建模\n",
    "    #最多10棵樹，樹最深10層\n",
    "    RF = RandomForestRegressor(n_estimators=10, random_state=1, max_depth=10)\n",
    "    RF.fit(x_train, y_train)\n",
    "    \n",
    "    #以SelectFromModel選擇feature\n",
    "    from sklearn.feature_selection import SelectFromModel\n",
    "    SFM = SelectFromModel(RF, prefit=True)\n",
    "    #降維\n",
    "    rf_x_train = SFM.transform(x_train)\n",
    "    rf_x_test = SFM.transform(x_test)\n",
    "\n",
    "    #印出所選feature欄位名\n",
    "    features_list = list(x_train.columns)\n",
    "    feature_select = SFM.get_support()\n",
    "    print('Feature Selected:')\n",
    "    for i in range(0,len(features_list)):\n",
    "        if feature_select[i]:\n",
    "            print(features_list[i])\n",
    "            \n",
    "    #特徵重要性\n",
    "    importances_list = list(RF.feature_importances_)\n",
    "    feature_importances = [(feature, round(importance, 2)) \n",
    "                       for feature, importance in zip(features_list, importances_list)] \n",
    "    #重要性從高到低排序\n",
    "    feature_importances = sorted(feature_importances, key = lambda x: x[1], reverse = True)\n",
    "\n",
    "    #印出特徵與重要性\n",
    "    for pair in feature_importances:\n",
    "        print('Feature: {:30} Importance: {}'.format(*pair))\n",
    "        \n",
    "    #特徵重要性視覺化\n",
    "    features = x_train.columns\n",
    "    importances = RF.feature_importances_\n",
    "    #印出所選feature重要性（最高7個）\n",
    "    #重要性由高到低排序\n",
    "    indices = np.argsort(importances)[-7:]\n",
    "    plt.title('Feature Importance')\n",
    "    plt.barh(range(len(indices)), importances[indices], color='b', align='center')\n",
    "    plt.yticks(range(len(indices)), [features[i] for i in indices])\n",
    "    plt.xlabel('Relative Importance')\n",
    "    plt.show()\n",
    "    \n",
    "    return rf_x_train,rf_x_test"
   ]
  },
  {
   "cell_type": "code",
   "execution_count": 72,
   "metadata": {},
   "outputs": [],
   "source": [
    "def nmf(x,k):\n",
    "    # x - data, k - dimension\n",
    "    from sklearn.decomposition import NMF\n",
    "    nmf = NMF(n_components=k).fit(x)\n",
    "    w = nmf.fit_transform(x)\n",
    "    return w"
   ]
  },
  {
   "cell_type": "code",
   "execution_count": 64,
   "metadata": {},
   "outputs": [],
   "source": [
    "def rmse(ypred, y):\n",
    "    return np.sqrt(np.mean((ypred-y)**2))"
   ]
  },
  {
   "cell_type": "code",
   "execution_count": 75,
   "metadata": {},
   "outputs": [],
   "source": [
    "def linearRegression(x_train,x_test):\n",
    "    reg = LinearRegression().fit(x_train, y_train)\n",
    "    y_pred = reg.predict(x_test)\n",
    "    return (rmse(y_pred, y_test))"
   ]
  },
  {
   "cell_type": "code",
   "execution_count": 85,
   "metadata": {},
   "outputs": [
    {
     "name": "stdout",
     "output_type": "stream",
     "text": [
      "(400, 43)\n"
     ]
    },
    {
     "data": {
      "image/png": "[encoded data removed]",
      "text/plain": [
       "<Figure size 432x288 with 1 Axes>"
      ]
     },
     "metadata": {
      "needs_background": "light"
     },
     "output_type": "display_data"
    },
    {
     "name": "stdout",
     "output_type": "stream",
     "text": [
      "          0\n",
      "0  0.869358\n",
      "1  0.076643\n",
      "2  0.050943\n",
      "3  0.003050\n"
     ]
    },
    {
     "data": {
      "image/png": "[encoded data removed]",
      "text/plain": [
       "<Figure size 432x288 with 1 Axes>"
      ]
     },
     "metadata": {
      "needs_background": "light"
     },
     "output_type": "display_data"
    },
    {
     "name": "stdout",
     "output_type": "stream",
     "text": [
      "           comp_page_like          Paid  life_post_reach  \\\n",
      "feature-1       -0.028950 -5.647385e-08         0.109400   \n",
      "feature-2       -0.082370  2.968364e-06         0.961503   \n",
      "feature-3       -0.996173 -1.363416e-06        -0.081787   \n",
      "feature-4        0.003741  9.473061e-07         0.238442   \n",
      "\n",
      "           life_post_impression_liked  life_post_reach_liked   comment  \\\n",
      "feature-1                    0.991073               0.070475  0.000067   \n",
      "feature-2                   -0.124932               0.230408  0.000172   \n",
      "feature-3                   -0.018312              -0.024710 -0.000068   \n",
      "feature-4                    0.042787              -0.969940 -0.000833   \n",
      "\n",
      "               like     share     type_link   type_status      ...       \\\n",
      "feature-1  0.001104  0.000099 -5.712911e-08  2.512274e-08      ...        \n",
      "feature-2  0.005593  0.000451  5.937016e-07 -1.399527e-07      ...        \n",
      "feature-3 -0.001967 -0.000060  7.696208e-07 -2.991518e-06      ...        \n",
      "feature-4 -0.022638 -0.001980  3.650489e-06 -1.786600e-05      ...        \n",
      "\n",
      "                  hour5         hour6         hour7         hour8  \\\n",
      "feature-1 -2.226713e-08 -3.214789e-08  5.550005e-07 -7.702496e-08   \n",
      "feature-2  1.102015e-07  1.849618e-07 -7.727408e-07 -5.402626e-07   \n",
      "feature-3  4.918480e-07  7.273304e-07  4.901953e-07  1.655232e-07   \n",
      "feature-4 -1.286279e-06 -1.015417e-07  2.035809e-06  2.080831e-06   \n",
      "\n",
      "                  hour9        hour10        hour11        hour12  \\\n",
      "feature-1 -1.261063e-07 -3.159166e-08 -2.041960e-07 -5.637670e-08   \n",
      "feature-2 -7.686609e-07  6.751370e-07 -1.118216e-06  2.677984e-07   \n",
      "feature-3 -1.290652e-06 -3.529050e-06 -1.528975e-06  8.709620e-07   \n",
      "feature-4  2.370606e-07 -6.217857e-06  3.149926e-06 -1.674351e-06   \n",
      "\n",
      "                 hour13        hour14  \n",
      "feature-1  4.881962e-07  4.662531e-08  \n",
      "feature-2  8.637012e-07  1.096752e-06  \n",
      "feature-3  2.925573e-06  3.989394e-07  \n",
      "feature-4 -5.715046e-06 -9.998553e-07  \n",
      "\n",
      "[4 rows x 43 columns]\n",
      "Feature Selected:\n",
      "comp_page_like\n",
      "life_post_reach\n",
      "life_post_impression_liked\n",
      "life_post_reach_liked\n",
      "like\n",
      "share\n",
      "type_status\n",
      "Feature: life_post_reach                Importance: 0.26\n",
      "Feature: life_post_impression_liked     Importance: 0.22\n",
      "Feature: life_post_reach_liked          Importance: 0.12\n",
      "Feature: comp_page_like                 Importance: 0.11\n",
      "Feature: type_status                    Importance: 0.08\n",
      "Feature: share                          Importance: 0.06\n",
      "Feature: like                           Importance: 0.03\n",
      "Feature: comment                        Importance: 0.02\n",
      "Feature: month3                         Importance: 0.02\n",
      "Feature: type_video                     Importance: 0.01\n",
      "Feature: month1                         Importance: 0.01\n",
      "Feature: month8                         Importance: 0.01\n",
      "Feature: hour2                          Importance: 0.01\n",
      "Feature: hour9                          Importance: 0.01\n",
      "Feature: hour11                         Importance: 0.01\n",
      "Feature: Paid                           Importance: 0.0\n",
      "Feature: type_link                      Importance: 0.0\n",
      "Feature: cat2                           Importance: 0.0\n",
      "Feature: cat3                           Importance: 0.0\n",
      "Feature: month2                         Importance: 0.0\n",
      "Feature: month4                         Importance: 0.0\n",
      "Feature: month5                         Importance: 0.0\n",
      "Feature: month6                         Importance: 0.0\n",
      "Feature: month7                         Importance: 0.0\n",
      "Feature: month9                         Importance: 0.0\n",
      "Feature: month10                        Importance: 0.0\n",
      "Feature: month11                        Importance: 0.0\n",
      "Feature: dow1                           Importance: 0.0\n",
      "Feature: dow2                           Importance: 0.0\n",
      "Feature: dow3                           Importance: 0.0\n",
      "Feature: dow4                           Importance: 0.0\n",
      "Feature: dow5                           Importance: 0.0\n",
      "Feature: dow6                           Importance: 0.0\n",
      "Feature: hour3                          Importance: 0.0\n",
      "Feature: hour4                          Importance: 0.0\n",
      "Feature: hour5                          Importance: 0.0\n",
      "Feature: hour6                          Importance: 0.0\n",
      "Feature: hour7                          Importance: 0.0\n",
      "Feature: hour8                          Importance: 0.0\n",
      "Feature: hour10                         Importance: 0.0\n",
      "Feature: hour12                         Importance: 0.0\n",
      "Feature: hour13                         Importance: 0.0\n",
      "Feature: hour14                         Importance: 0.0\n"
     ]
    },
    {
     "name": "stderr",
     "output_type": "stream",
     "text": [
      "/Users/hosi/anaconda3/lib/python3.6/site-packages/ipykernel_launcher.py:14: DataConversionWarning: Data with input dtype int64 were all converted to float64 by the scale function.\n",
      "  \n"
     ]
    },
    {
     "data": {
      "image/png": "[encoded data removed]",
      "text/plain": [
       "<Figure size 432x288 with 1 Axes>"
      ]
     },
     "metadata": {
      "needs_background": "light"
     },
     "output_type": "display_data"
    },
    {
     "name": "stdout",
     "output_type": "stream",
     "text": [
      "===RMSE===\n",
      "Non-reduction:\n",
      "692.2891271362012\n",
      "PCA reduction:\n",
      "842.9359344532463\n",
      "Random Forest reduction:\n",
      "675.268405106361\n",
      "NMF reduction:\n",
      "941.5207106139327\n"
     ]
    }
   ],
   "source": [
    "#main\n",
    "import pandas as pd\n",
    "import numpy as np\n",
    "import matplotlib.pyplot as plt\n",
    "from sklearn.decomposition import PCA\n",
    "from sklearn import preprocessing\n",
    "from sklearn.linear_model import LinearRegression\n",
    "\n",
    "#read file\n",
    "df_train = pd.read_csv('df1_train.csv')\n",
    "df_test_x = pd.read_csv('df1_test1.csv')\n",
    "df_test_y = pd.read_csv('df1_test1y.csv')\n",
    "#set variables\n",
    "#turn dataframe into numpy\n",
    "attributes=df_train.columns.values\n",
    "x_train=df_train[attributes[1:]]\n",
    "y_train=df_train['life_post_consumer']\n",
    "x_test=df_test_x\n",
    "y_test=df_test_y['life_post_consumer']\n",
    "\n",
    "pca_x_train,pca_x_test = pca()\n",
    "rf_x_train,rf_x_test = randomForest()\n",
    "#non-reduction\n",
    "print(\"===RMSE===\")\n",
    "print(\"Non-reduction:\")\n",
    "print(linearRegression(x_train,x_test))\n",
    "#PCA reduction\n",
    "print(\"PCA reduction:\")\n",
    "print(linearRegression(pca_x_train,pca_x_test))\n",
    "#Random Forest reduction\n",
    "print(\"Random Forest reduction:\")\n",
    "print(linearRegression(rf_x_train,rf_x_test))\n",
    "#NMF reduction: find the best k with smallest rmse\n",
    "rmseList = np.zeros(len(x_train.columns))\n",
    "for k in range(len(x_train.columns)):\n",
    "    x_train_reduce = nmf(x_train, k+1)\n",
    "    x_test_reduce = nmf(x_test, k+1)\n",
    "    rmseList[k] = linearRegression(x_train_reduce, x_test_reduce)\n",
    "k_opt = np.argmin(rmseList)+1\n",
    "\n",
    "x_train_reduce = nmf(x_train, k_opt)\n",
    "x_test_reduce = nmf(x_test, k_opt)\n",
    "print(\"NMF reduction:\")\n",
    "print(linearRegression(x_train_reduce, x_test_reduce))"
   ]
  },
  {
   "cell_type": "code",
   "execution_count": null,
   "metadata": {},
   "outputs": [],
   "source": []
  }
 ],
 "metadata": {
  "kernelspec": {
   "display_name": "Python 3",
   "language": "python",
   "name": "python3"
  },
  "language_info": {
   "codemirror_mode": {
    "name": "ipython",
    "version": 3
   },
   "file_extension": ".py",
   "mimetype": "text/x-python",
   "name": "python",
   "nbconvert_exporter": "python",
   "pygments_lexer": "ipython3",
   "version": "3.6.6"
  }
 },
 "nbformat": 4,
 "nbformat_minor": 2
}
