{
 "cells": [
  {
   "cell_type": "code",
   "execution_count": 22,
   "metadata": {},
   "outputs": [],
   "source": [
    "#read data\n",
    "import pandas as pd\n",
    "df_train = pd.read_csv('df1_train.csv')\n",
    "df_test_x = pd.read_csv('df1_test1.csv')\n",
    "df_test_y = pd.read_csv('df1_test1y.csv')"
   ]
  },
  {
   "cell_type": "code",
   "execution_count": 23,
   "metadata": {},
   "outputs": [
    {
     "data": {
      "text/plain": [
       "RandomForestRegressor(bootstrap=True, criterion='mse', max_depth=10,\n",
       "           max_features='auto', max_leaf_nodes=None,\n",
       "           min_impurity_decrease=0.0, min_impurity_split=None,\n",
       "           min_samples_leaf=1, min_samples_split=2,\n",
       "           min_weight_fraction_leaf=0.0, n_estimators=10, n_jobs=None,\n",
       "           oob_score=False, random_state=1, verbose=0, warm_start=False)"
      ]
     },
     "execution_count": 23,
     "metadata": {},
     "output_type": "execute_result"
    }
   ],
   "source": [
    "#以training data選擇降維維度\n",
    "from sklearn.ensemble import RandomForestRegressor\n",
    "train_x = df_train.drop(['life_post_consumer'], axis=1)\n",
    "train_y = df_train.life_post_consumer\n",
    "#Random Forest建模\n",
    "#最多10棵樹，樹最深10層\n",
    "RF = RandomForestRegressor(n_estimators=10, random_state=1, max_depth=10)\n",
    "RF.fit(train_x, train_y)"
   ]
  },
  {
   "cell_type": "code",
   "execution_count": 24,
   "metadata": {},
   "outputs": [
    {
     "name": "stdout",
     "output_type": "stream",
     "text": [
      "Feature Selected:\n",
      "comp_page_like\n",
      "life_post_reach\n",
      "life_post_impression_liked\n",
      "life_post_reach_liked\n",
      "like\n",
      "share\n",
      "type_status\n"
     ]
    }
   ],
   "source": [
    "#以SelectFromModel選擇feature\n",
    "from sklearn.feature_selection import SelectFromModel\n",
    "SFM = SelectFromModel(RF, prefit=True)\n",
    "x_reduced = SFM.transform(train_x)\n",
    "\n",
    "#印出所選feature欄位名\n",
    "feature_select = SFM.get_support()\n",
    "print('Feature Selected:')\n",
    "for i in range(0,len(features_list)):\n",
    "    if feature_select[i]:\n",
    "        print(features_list[i])"
   ]
  },
  {
   "cell_type": "code",
   "execution_count": 25,
   "metadata": {},
   "outputs": [
    {
     "name": "stdout",
     "output_type": "stream",
     "text": [
      "Feature: life_post_reach                Importance: 0.26\n",
      "Feature: life_post_impression_liked     Importance: 0.22\n",
      "Feature: life_post_reach_liked          Importance: 0.12\n",
      "Feature: comp_page_like                 Importance: 0.11\n",
      "Feature: type_status                    Importance: 0.08\n",
      "Feature: share                          Importance: 0.06\n",
      "Feature: like                           Importance: 0.03\n",
      "Feature: comment                        Importance: 0.02\n",
      "Feature: month3                         Importance: 0.02\n",
      "Feature: type_video                     Importance: 0.01\n",
      "Feature: month1                         Importance: 0.01\n",
      "Feature: month8                         Importance: 0.01\n",
      "Feature: hour2                          Importance: 0.01\n",
      "Feature: hour9                          Importance: 0.01\n",
      "Feature: hour11                         Importance: 0.01\n",
      "Feature: Paid                           Importance: 0.0\n",
      "Feature: type_link                      Importance: 0.0\n",
      "Feature: cat2                           Importance: 0.0\n",
      "Feature: cat3                           Importance: 0.0\n",
      "Feature: month2                         Importance: 0.0\n",
      "Feature: month4                         Importance: 0.0\n",
      "Feature: month5                         Importance: 0.0\n",
      "Feature: month6                         Importance: 0.0\n",
      "Feature: month7                         Importance: 0.0\n",
      "Feature: month9                         Importance: 0.0\n",
      "Feature: month10                        Importance: 0.0\n",
      "Feature: month11                        Importance: 0.0\n",
      "Feature: dow1                           Importance: 0.0\n",
      "Feature: dow2                           Importance: 0.0\n",
      "Feature: dow3                           Importance: 0.0\n",
      "Feature: dow4                           Importance: 0.0\n",
      "Feature: dow5                           Importance: 0.0\n",
      "Feature: dow6                           Importance: 0.0\n",
      "Feature: hour3                          Importance: 0.0\n",
      "Feature: hour4                          Importance: 0.0\n",
      "Feature: hour5                          Importance: 0.0\n",
      "Feature: hour6                          Importance: 0.0\n",
      "Feature: hour7                          Importance: 0.0\n",
      "Feature: hour8                          Importance: 0.0\n",
      "Feature: hour10                         Importance: 0.0\n",
      "Feature: hour12                         Importance: 0.0\n",
      "Feature: hour13                         Importance: 0.0\n",
      "Feature: hour14                         Importance: 0.0\n"
     ]
    }
   ],
   "source": [
    "#特徵重要性\n",
    "features_list = list(train_x.columns)\n",
    "importances_list = list(RF.feature_importances_)\n",
    "feature_importances = [(feature, round(importance, 2)) \n",
    "                       for feature, importance in zip(features_list, importances_list)] \n",
    "#重要性從高到低排序\n",
    "feature_importances = sorted(feature_importances, key = lambda x: x[1], reverse = True)\n",
    "\n",
    "#印出特徵與重要性\n",
    "for pair in feature_importances:\n",
    "    print('Feature: {:30} Importance: {}'.format(*pair))"
   ]
  },
  {
   "cell_type": "code",
   "execution_count": 26,
   "metadata": {
    "scrolled": true
   },
   "outputs": [
    {
     "data": {
      "image/png": "[encoded data removed]",
      "text/plain": [
       "<Figure size 432x288 with 1 Axes>"
      ]
     },
     "metadata": {
      "needs_background": "light"
     },
     "output_type": "display_data"
    }
   ],
   "source": [
    "#特徵重要性視覺化\n",
    "import numpy as np\n",
    "import matplotlib.pyplot as plt\n",
    "features = train_x.columns\n",
    "importances = RF.feature_importances_\n",
    "#印出所選feature重要性（最高7個）\n",
    "#重要性由高到低排序\n",
    "indices = np.argsort(importances)[-7:]\n",
    "plt.title('Feature Importance')\n",
    "plt.barh(range(len(indices)), importances[indices], color='b', align='center')\n",
    "plt.yticks(range(len(indices)), [features[i] for i in indices])\n",
    "plt.xlabel('Relative Importance')\n",
    "plt.show()"
   ]
  }
 ],
 "metadata": {
  "kernelspec": {
   "display_name": "Python 3",
   "language": "python",
   "name": "python3"
  },
  "language_info": {
   "codemirror_mode": {
    "name": "ipython",
    "version": 3
   },
   "file_extension": ".py",
   "mimetype": "text/x-python",
   "name": "python",
   "nbconvert_exporter": "python",
   "pygments_lexer": "ipython3",
   "version": "3.6.6"
  }
 },
 "nbformat": 4,
 "nbformat_minor": 2
}
